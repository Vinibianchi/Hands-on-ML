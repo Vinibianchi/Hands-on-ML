{
 "cells": [
  {
   "cell_type": "markdown",
   "id": "70ad420c-c7d1-4e7d-ac64-7f7cf571895e",
   "metadata": {},
   "source": [
    "\n",
    "\n",
    "\n",
    "1. Como você definiria o aprendizado de máquina?\n",
    "\n",
    "2. Você consegue apontar quatro tipos de problemas que se destacam?\n",
    "\n",
    "3. O que é um conjunto de treinamento rotulado? \n",
    "\n",
    "4. Quais são as duas tarefas supervisionadas mais comuns? \n",
    "\n",
    "5. Você consegue citar quatro tarefas comuns não supervisionadas? \n",
    "\n",
    "6. Qual tipo de algoritmo de aprendizado de máquina você usaria para possibilitar que um robô andasse por aí em lugares inexplorados?\n",
    "\n",
    "7. Que tipo de algoritmo você utilizaria a fim de segmentar seus clientes em diversos grupos? \n",
    "\n",
    "8. Você acha que o problema da detecção de spam tem a ver com o aprendizado supervisionado ou não supervisionado? \n",
    "\n",
    "9. O que é um sistema de aprendizado online?  \n",
    "\n",
    "10. O que é o aprendizado out-of-core?  \n",
    "\n",
    "11. Qual tipo de algoritmo de aprendizado depende de uma medida de similaridade para efetuar predições?  \n",
    "\n",
    "12. Qual a diferença entre um parâmetro de modelo e o hiperparâmetro do algoritmo de aprendizado?  \n",
    "\n",
    "13. Para que servem os algoritmos de aprendizado baseados em modelos? \n",
    "    13.1 Qual é a estratégia mais comum que eles utilizam para serem bem-sucedidos?\n",
    "    13.2 Como eles fazem predições? \n",
    "14. Você pode mencionar quatro dos principais desafios do aprendizado de máquina?  \n",
    "\n",
    "15. Caso o modelo tenha um bom desempenho nos dados de treinamento, mas a generalização deixa a desejar em instâncias novas, o que está acontecendo?\n",
    "\n",
    "16. O que é um conjunto de testes e por que você o utilizaria?  \n",
    "\n",
    "17. Qual é o propósito de um conjunto de validação?  \n",
    "\n",
    "18. O que é um train-dev set, quando é necessário e como usá-lo?  \n",
    "\n",
    "19. O que pode sair de errado se você ajustar os hiperparâmetros utilizando o conjunto de teste?  \n",
    "  \n",
    "  \n",
    "  \n",
    "  \n",
    "  \n",
    "Géron, Aurélien. Mãos A Obra: Aprendizado De Máquina Com Scikit-Learn, Keras & TensorFlow (p. 84). Alta Books. Edição do Kindle. \n",
    ". "
   ]
  },
  {
   "cell_type": "code",
   "execution_count": null,
   "id": "74a5b608-b4da-42e3-bd52-b18845c150ff",
   "metadata": {},
   "outputs": [],
   "source": []
  }
 ],
 "metadata": {
  "kernelspec": {
   "display_name": "Python 3 (ipykernel)",
   "language": "python",
   "name": "python3"
  },
  "language_info": {
   "codemirror_mode": {
    "name": "ipython",
    "version": 3
   },
   "file_extension": ".py",
   "mimetype": "text/x-python",
   "name": "python",
   "nbconvert_exporter": "python",
   "pygments_lexer": "ipython3",
   "version": "3.9.7"
  }
 },
 "nbformat": 4,
 "nbformat_minor": 5
}
